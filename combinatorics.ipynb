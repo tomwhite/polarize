{
 "cells": [
  {
   "cell_type": "markdown",
   "id": "fea05efa-ef5d-4f81-99e4-2f7bda5ef577",
   "metadata": {},
   "source": [
    "# How many Polarize puzzles are there?"
   ]
  },
  {
   "cell_type": "markdown",
   "id": "1eb5f87d-365d-4730-9461-e6b02de82438",
   "metadata": {},
   "source": [
    "I want to be sure that there are enough interesting puzzles to set one every day. (Here's is the equivalent [investigation for Reflect](https://github.com/tomwhite/reflect/blob/main/combinatorics.ipynb).)"
   ]
  },
  {
   "cell_type": "markdown",
   "id": "f5ecbdb0-00b1-4f0c-8e74-68c6af62dc84",
   "metadata": {},
   "source": [
    "## Counting Polarize boards\n",
    "\n",
    "Here is some code to count the total number of boards (of size 4) for various numbers of pieces. The first column counts the number of ways of placing the pieces on a board, without taking board symmetries into account. The second column counts the number of distinct boards, where symmetries are taken into account."
   ]
  },
  {
   "cell_type": "code",
   "execution_count": 1,
   "id": "0e72ae07-a830-4358-af48-b212c78775d6",
   "metadata": {},
   "outputs": [
    {
     "name": "stdout",
     "output_type": "stream",
     "text": [
      "CPU times: user 24.5 s, sys: 3.77 s, total: 28.2 s\n",
      "Wall time: 31 s\n"
     ]
    },
    {
     "data": {
      "text/html": [
       "<div>\n",
       "<style scoped>\n",
       "    .dataframe tbody tr th:only-of-type {\n",
       "        vertical-align: middle;\n",
       "    }\n",
       "\n",
       "    .dataframe tbody tr th {\n",
       "        vertical-align: top;\n",
       "    }\n",
       "\n",
       "    .dataframe thead th {\n",
       "        text-align: right;\n",
       "    }\n",
       "</style>\n",
       "<table border=\"1\" class=\"dataframe\">\n",
       "  <thead>\n",
       "    <tr style=\"text-align: right;\">\n",
       "      <th></th>\n",
       "      <th>Number of dominoes</th>\n",
       "      <th>Number of 4x4 boards</th>\n",
       "      <th>Number of distinct 4x4 boards</th>\n",
       "    </tr>\n",
       "  </thead>\n",
       "  <tbody>\n",
       "    <tr>\n",
       "      <th>0</th>\n",
       "      <td>1</td>\n",
       "      <td>96</td>\n",
       "      <td>14</td>\n",
       "    </tr>\n",
       "    <tr>\n",
       "      <th>1</th>\n",
       "      <td>2</td>\n",
       "      <td>3584</td>\n",
       "      <td>476</td>\n",
       "    </tr>\n",
       "    <tr>\n",
       "      <th>2</th>\n",
       "      <td>3</td>\n",
       "      <td>66816</td>\n",
       "      <td>8420</td>\n",
       "    </tr>\n",
       "    <tr>\n",
       "      <th>3</th>\n",
       "      <td>4</td>\n",
       "      <td>663808</td>\n",
       "      <td>83343</td>\n",
       "    </tr>\n",
       "    <tr>\n",
       "      <th>4</th>\n",
       "      <td>5</td>\n",
       "      <td>3469312</td>\n",
       "      <td>434256</td>\n",
       "    </tr>\n",
       "    <tr>\n",
       "      <th>5</th>\n",
       "      <td>6</td>\n",
       "      <td>8806400</td>\n",
       "      <td>1102224</td>\n",
       "    </tr>\n",
       "  </tbody>\n",
       "</table>\n",
       "</div>"
      ],
      "text/plain": [
       "   Number of dominoes  Number of 4x4 boards  Number of distinct 4x4 boards\n",
       "0                   1                    96                             14\n",
       "1                   2                  3584                            476\n",
       "2                   3                 66816                           8420\n",
       "3                   4                663808                          83343\n",
       "4                   5               3469312                         434256\n",
       "5                   6               8806400                        1102224"
      ]
     },
     "execution_count": 1,
     "metadata": {},
     "output_type": "execute_result"
    }
   ],
   "source": [
    "%%time\n",
    "import pandas as pd\n",
    "from polarize.encode import all_boards, canonical_boards\n",
    "\n",
    "rows = []\n",
    "for num_pieces in range(1, 7):\n",
    "    boards, _, _ = all_boards(num_pieces)\n",
    "    distinct_boards, _, _ = canonical_boards(num_pieces)\n",
    "    rows.append([num_pieces, len(boards), len(distinct_boards)])\n",
    "pd.DataFrame(\n",
    "    rows,\n",
    "    columns=[\n",
    "        \"Number of dominoes\",\n",
    "        \"Number of 4x4 boards\",\n",
    "        \"Number of distinct 4x4 boards\",\n",
    "    ],\n",
    ")"
   ]
  },
  {
   "cell_type": "markdown",
   "id": "e789ba22-9cea-41b5-94d0-e8bc0629ffdd",
   "metadata": {},
   "source": [
    "## Counting Polarize puzzles\n",
    "\n",
    "Some boards are the solution to more than one puzzle - i.e. a given set of lights and dominoes. We don't want to set puzzles that have multiple solutions, so here we look for the number of different puzzles that have a unique solution."
   ]
  },
  {
   "cell_type": "code",
   "execution_count": 2,
   "id": "07544fca-2c68-473f-9b04-baabafe8aa6c",
   "metadata": {},
   "outputs": [
    {
     "name": "stdout",
     "output_type": "stream",
     "text": [
      "CPU times: user 36 s, sys: 5.49 s, total: 41.5 s\n",
      "Wall time: 44.8 s\n"
     ]
    },
    {
     "data": {
      "text/html": [
       "<div>\n",
       "<style scoped>\n",
       "    .dataframe tbody tr th:only-of-type {\n",
       "        vertical-align: middle;\n",
       "    }\n",
       "\n",
       "    .dataframe tbody tr th {\n",
       "        vertical-align: top;\n",
       "    }\n",
       "\n",
       "    .dataframe thead th {\n",
       "        text-align: right;\n",
       "    }\n",
       "</style>\n",
       "<table border=\"1\" class=\"dataframe\">\n",
       "  <thead>\n",
       "    <tr style=\"text-align: right;\">\n",
       "      <th></th>\n",
       "      <th>Number of dominoes</th>\n",
       "      <th>Number of 4x4 boards</th>\n",
       "      <th>Number of distinct 4x4 boards</th>\n",
       "      <th>Number of distinct 4x4 puzzles with a unique solution</th>\n",
       "    </tr>\n",
       "  </thead>\n",
       "  <tbody>\n",
       "    <tr>\n",
       "      <th>0</th>\n",
       "      <td>1</td>\n",
       "      <td>96</td>\n",
       "      <td>14</td>\n",
       "      <td>14</td>\n",
       "    </tr>\n",
       "    <tr>\n",
       "      <th>1</th>\n",
       "      <td>2</td>\n",
       "      <td>3584</td>\n",
       "      <td>476</td>\n",
       "      <td>238</td>\n",
       "    </tr>\n",
       "    <tr>\n",
       "      <th>2</th>\n",
       "      <td>3</td>\n",
       "      <td>66816</td>\n",
       "      <td>8420</td>\n",
       "      <td>1606</td>\n",
       "    </tr>\n",
       "    <tr>\n",
       "      <th>3</th>\n",
       "      <td>4</td>\n",
       "      <td>663808</td>\n",
       "      <td>83343</td>\n",
       "      <td>3161</td>\n",
       "    </tr>\n",
       "    <tr>\n",
       "      <th>4</th>\n",
       "      <td>5</td>\n",
       "      <td>3469312</td>\n",
       "      <td>434256</td>\n",
       "      <td>3313</td>\n",
       "    </tr>\n",
       "    <tr>\n",
       "      <th>5</th>\n",
       "      <td>6</td>\n",
       "      <td>8806400</td>\n",
       "      <td>1102224</td>\n",
       "      <td>3233</td>\n",
       "    </tr>\n",
       "  </tbody>\n",
       "</table>\n",
       "</div>"
      ],
      "text/plain": [
       "   Number of dominoes  Number of 4x4 boards  Number of distinct 4x4 boards  \\\n",
       "0                   1                    96                             14   \n",
       "1                   2                  3584                            476   \n",
       "2                   3                 66816                           8420   \n",
       "3                   4                663808                          83343   \n",
       "4                   5               3469312                         434256   \n",
       "5                   6               8806400                        1102224   \n",
       "\n",
       "   Number of distinct 4x4 puzzles with a unique solution  \n",
       "0                                                 14      \n",
       "1                                                238      \n",
       "2                                               1606      \n",
       "3                                               3161      \n",
       "4                                               3313      \n",
       "5                                               3233      "
      ]
     },
     "execution_count": 2,
     "metadata": {},
     "output_type": "execute_result"
    }
   ],
   "source": [
    "%%time\n",
    "from polarize.encode import canonical_puzzles_with_unique_solution\n",
    "\n",
    "rows = []\n",
    "for num_pieces in range(1, 7):\n",
    "    boards, _, _ = all_boards(num_pieces)\n",
    "    distinct_boards, _, _ = canonical_boards(num_pieces)\n",
    "    canonical_lights, canonical_dominoes = canonical_puzzles_with_unique_solution(\n",
    "        num_pieces\n",
    "    )\n",
    "    rows.append([num_pieces, len(boards), len(distinct_boards), len(canonical_lights)])\n",
    "pd.DataFrame(\n",
    "    rows,\n",
    "    columns=[\n",
    "        \"Number of dominoes\",\n",
    "        \"Number of 4x4 boards\",\n",
    "        \"Number of distinct 4x4 boards\",\n",
    "        \"Number of distinct 4x4 puzzles with a unique solution\",\n",
    "    ],\n",
    ")"
   ]
  },
  {
   "cell_type": "markdown",
   "id": "630112df-3bb5-4fc4-a6c0-b151cd6b9a62",
   "metadata": {},
   "source": [
    "We also have a rule where you have to use *all* the domino pieces in the puzzle. So let's count the number of puzzles which have unique solutions even when considering fewer pieces."
   ]
  },
  {
   "cell_type": "code",
   "execution_count": 9,
   "id": "f1d62250-2790-4076-a29e-a6f11219e6ad",
   "metadata": {},
   "outputs": [],
   "source": [
    "import numpy as np\n",
    "from polarize.encode import decode_puzzle\n",
    "from polarize.solve import quick_has_unique_solution\n",
    "\n",
    "\n",
    "def count_unique_with_fewer(canonical_lights, canonical_dominoes):\n",
    "    unique_with_fewer = np.empty(canonical_lights.shape, dtype=bool)\n",
    "    for i in range(len(canonical_lights)):\n",
    "        puzzle = decode_puzzle(canonical_lights[i], canonical_dominoes[i])\n",
    "        unique_with_fewer[i] = quick_has_unique_solution(\n",
    "            puzzle, fewer_pieces_allowed=True\n",
    "        )\n",
    "    return np.count_nonzero(unique_with_fewer)"
   ]
  },
  {
   "cell_type": "code",
   "execution_count": 12,
   "id": "8d98ea3d-86f1-453b-9dc5-0b144d5e0f67",
   "metadata": {},
   "outputs": [
    {
     "name": "stdout",
     "output_type": "stream",
     "text": [
      "CPU times: user 40.8 s, sys: 5.33 s, total: 46.1 s\n",
      "Wall time: 46.8 s\n"
     ]
    },
    {
     "data": {
      "text/html": [
       "<div>\n",
       "<style scoped>\n",
       "    .dataframe tbody tr th:only-of-type {\n",
       "        vertical-align: middle;\n",
       "    }\n",
       "\n",
       "    .dataframe tbody tr th {\n",
       "        vertical-align: top;\n",
       "    }\n",
       "\n",
       "    .dataframe thead th {\n",
       "        text-align: right;\n",
       "    }\n",
       "</style>\n",
       "<table border=\"1\" class=\"dataframe\">\n",
       "  <thead>\n",
       "    <tr style=\"text-align: right;\">\n",
       "      <th></th>\n",
       "      <th>Number of dominoes</th>\n",
       "      <th>Number of 4x4 boards</th>\n",
       "      <th>Number of distinct 4x4 boards</th>\n",
       "      <th>Number of distinct 4x4 puzzles with a unique solution</th>\n",
       "      <th>Number of distinct 4x4 puzzles with a unique solution including fewer pieces</th>\n",
       "    </tr>\n",
       "  </thead>\n",
       "  <tbody>\n",
       "    <tr>\n",
       "      <th>0</th>\n",
       "      <td>1</td>\n",
       "      <td>96</td>\n",
       "      <td>14</td>\n",
       "      <td>14</td>\n",
       "      <td>14</td>\n",
       "    </tr>\n",
       "    <tr>\n",
       "      <th>1</th>\n",
       "      <td>2</td>\n",
       "      <td>3584</td>\n",
       "      <td>476</td>\n",
       "      <td>238</td>\n",
       "      <td>238</td>\n",
       "    </tr>\n",
       "    <tr>\n",
       "      <th>2</th>\n",
       "      <td>3</td>\n",
       "      <td>66816</td>\n",
       "      <td>8420</td>\n",
       "      <td>1606</td>\n",
       "      <td>1515</td>\n",
       "    </tr>\n",
       "    <tr>\n",
       "      <th>3</th>\n",
       "      <td>4</td>\n",
       "      <td>663808</td>\n",
       "      <td>83343</td>\n",
       "      <td>3161</td>\n",
       "      <td>1876</td>\n",
       "    </tr>\n",
       "    <tr>\n",
       "      <th>4</th>\n",
       "      <td>5</td>\n",
       "      <td>3469312</td>\n",
       "      <td>434256</td>\n",
       "      <td>3313</td>\n",
       "      <td>424</td>\n",
       "    </tr>\n",
       "  </tbody>\n",
       "</table>\n",
       "</div>"
      ],
      "text/plain": [
       "   Number of dominoes  Number of 4x4 boards  Number of distinct 4x4 boards  \\\n",
       "0                   1                    96                             14   \n",
       "1                   2                  3584                            476   \n",
       "2                   3                 66816                           8420   \n",
       "3                   4                663808                          83343   \n",
       "4                   5               3469312                         434256   \n",
       "\n",
       "   Number of distinct 4x4 puzzles with a unique solution  \\\n",
       "0                                                 14       \n",
       "1                                                238       \n",
       "2                                               1606       \n",
       "3                                               3161       \n",
       "4                                               3313       \n",
       "\n",
       "   Number of distinct 4x4 puzzles with a unique solution including fewer pieces  \n",
       "0                                                 14                             \n",
       "1                                                238                             \n",
       "2                                               1515                             \n",
       "3                                               1876                             \n",
       "4                                                424                             "
      ]
     },
     "execution_count": 12,
     "metadata": {},
     "output_type": "execute_result"
    }
   ],
   "source": [
    "%%time\n",
    "from polarize.encode import canonical_puzzles_with_unique_solution\n",
    "\n",
    "rows = []\n",
    "for num_pieces in range(1, 6):\n",
    "    boards, _, _ = all_boards(num_pieces)\n",
    "    distinct_boards, _, _ = canonical_boards(num_pieces)\n",
    "    canonical_lights, canonical_dominoes = canonical_puzzles_with_unique_solution(\n",
    "        num_pieces\n",
    "    )\n",
    "    unique_with_fewer = count_unique_with_fewer(canonical_lights, canonical_dominoes)\n",
    "    rows.append(\n",
    "        [\n",
    "            num_pieces,\n",
    "            len(boards),\n",
    "            len(distinct_boards),\n",
    "            len(canonical_lights),\n",
    "            unique_with_fewer,\n",
    "        ]\n",
    "    )\n",
    "pd.DataFrame(\n",
    "    rows,\n",
    "    columns=[\n",
    "        \"Number of dominoes\",\n",
    "        \"Number of 4x4 boards\",\n",
    "        \"Number of distinct 4x4 boards\",\n",
    "        \"Number of distinct 4x4 puzzles with a unique solution\",\n",
    "        \"Number of distinct 4x4 puzzles with a unique solution including fewer pieces\",\n",
    "    ],\n",
    ")"
   ]
  },
  {
   "cell_type": "markdown",
   "id": "6be8fab9-b261-48d3-97cf-37e0c85a051b",
   "metadata": {},
   "source": [
    "From experience, 4 or 5 dominoes make a challenging puzzle, so we might have a few years of puzzles. (This is a lot less than over 500 years of Reflect puzzles!)\n",
    "\n",
    "But that's probably OK. We could set puzzles that are transformations of each other (i.e. don't take symmetries into account) as players will probably not notice. And then repeat after they've been exhausted - if people are still playing it.\n",
    "\n",
    "Of course, another way to increase the number of puzzles would be to use a larger board (5x5) and to have more complex pieces (triominoes)."
   ]
  },
  {
   "cell_type": "markdown",
   "id": "79737302-5736-4fd5-a6fa-aeebca121f7e",
   "metadata": {},
   "source": [
    "## All the puzzles\n",
    "\n",
    "Let's generate all the puzzles (with a given number of dominoes).\n",
    "\n",
    "Note that the puzzles are *not* canonicalized, so we've got all transformations in this data."
   ]
  },
  {
   "cell_type": "code",
   "execution_count": 3,
   "id": "90db2eba-7ab0-4a57-a0e9-f15b62a9287f",
   "metadata": {},
   "outputs": [
    {
     "data": {
      "text/plain": [
       "(25240, 25240, 25240)"
      ]
     },
     "execution_count": 3,
     "metadata": {},
     "output_type": "execute_result"
    }
   ],
   "source": [
    "from polarize.encode import all_puzzles_with_unique_solution\n",
    "\n",
    "boards, lights, dominoes = all_puzzles_with_unique_solution(4)\n",
    "len(boards), len(lights), len(dominoes)"
   ]
  },
  {
   "cell_type": "markdown",
   "id": "98915a7b-7a18-4cec-957b-7577f0af92a3",
   "metadata": {},
   "source": [
    "### Solving a puzzle\n",
    "\n",
    "We can use this data to find the solution for any puzzle (that has a unique solution) simply by finding a matching row.\n",
    "\n",
    "Here's a puzzle set on 10 April 2025:"
   ]
  },
  {
   "cell_type": "code",
   "execution_count": 4,
   "id": "396b2f8e-d612-4684-ba81-b17a382fe144",
   "metadata": {},
   "outputs": [
    {
     "data": {
      "text/html": [
       "<pre style=\"white-space:pre;overflow-x:auto;line-height:normal;font-family:Menlo,'DejaVu Sans Mono',consolas,'Courier New',monospace\"> ███<span style=\"color: #e9d66b; text-decoration-color: #e9d66b\">█</span> \n",
       "<span style=\"color: #ffff00; text-decoration-color: #ffff00\">█</span>....<span style=\"color: #ffff00; text-decoration-color: #ffff00\">█</span>\n",
       "█....█\n",
       "█....█\n",
       "<span style=\"color: #e9d66b; text-decoration-color: #e9d66b\">█</span>....<span style=\"color: #e9d66b; text-decoration-color: #e9d66b\">█</span>\n",
       " ███<span style=\"color: #e9d66b; text-decoration-color: #e9d66b\">█</span> \n",
       "<span style=\"background-color: #ffff00\">\\\\</span>\n",
       "<span style=\"background-color: #00ffff\">\\</span>\n",
       "<span style=\"background-color: #00ffff\">/</span>\n",
       "<span style=\"background-color: #ff00ff\">/</span>\n",
       "<span style=\"background-color: #ff00ff\">\\</span>\n",
       "<span style=\"background-color: #00ff00\">\\/</span>\n",
       "\n",
       "</pre>\n"
      ],
      "text/plain": [
       " ███\u001b[38;2;233;214;107m█\u001b[0m \n",
       "\u001b[38;2;255;255;0m█\u001b[0m....\u001b[38;2;255;255;0m█\u001b[0m\n",
       "█....█\n",
       "█....█\n",
       "\u001b[38;2;233;214;107m█\u001b[0m....\u001b[38;2;233;214;107m█\u001b[0m\n",
       " ███\u001b[38;2;233;214;107m█\u001b[0m \n",
       "\u001b[7;93m\\\\\u001b[0m\n",
       "\u001b[7;96m\\\u001b[0m\n",
       "\u001b[7;96m/\u001b[0m\n",
       "\u001b[7;95m/\u001b[0m\n",
       "\u001b[7;95m\\\u001b[0m\n",
       "\u001b[7;92m\\/\u001b[0m\n",
       "\n"
      ]
     },
     "metadata": {},
     "output_type": "display_data"
    }
   ],
   "source": [
    "from polarize.model import Puzzle\n",
    "\n",
    "puzzle = Puzzle.from_json_str(\n",
    "    \"\"\"{\"n\": 4, \"lights\": [0, 2, 2, 1, 2, 2, 2, 1], \"dominoes\": [3, 6, 5, 2], \"initial_placed_dominoes\": [{\"domino\": 5, \"i\": 1, \"j\": 0}, {\"domino\": 6, \"i\": 0, \"j\": 0}, {\"domino\": 3, \"i\": 2, \"j\": 0}, {\"domino\": 2, \"i\": 2, \"j\": 1}], \"solution\": {\"values\": [[0, 0, 0, 0], [2, 2, 1, 0], [1, 1, 2, 2], [0, 2, 0, 0]], \"placed_dominoes\": [{\"domino\": 3, \"i\": 2, \"j\": 2}, {\"domino\": 6, \"i\": 0, \"j\": 1}, {\"domino\": 5, \"i\": 1, \"j\": 2}, {\"domino\": 2, \"i\": 1, \"j\": 1}]}}\"\"\"\n",
    ")\n",
    "\n",
    "from rich.jupyter import print\n",
    "\n",
    "print(puzzle)"
   ]
  },
  {
   "cell_type": "markdown",
   "id": "f67334d5-6bb9-4ee7-b57d-0b24c6415b91",
   "metadata": {},
   "source": [
    "Let's first encode the lights and the dominoes."
   ]
  },
  {
   "cell_type": "code",
   "execution_count": 5,
   "id": "8f940f1c-138b-4872-ba34-dc46c2363bf3",
   "metadata": {},
   "outputs": [
    {
     "data": {
      "text/plain": [
       "(10665, 1114384)"
      ]
     },
     "execution_count": 5,
     "metadata": {},
     "output_type": "execute_result"
    }
   ],
   "source": [
    "from polarize.encode import encode_dominoes\n",
    "\n",
    "lights_val = puzzle.lights_int\n",
    "dominoes_val = encode_dominoes(\n",
    "    np.array([d.value for d in puzzle.dominoes], dtype=np.int8)\n",
    ")\n",
    "\n",
    "lights_val, dominoes_val"
   ]
  },
  {
   "cell_type": "markdown",
   "id": "071eac51-96c5-43a0-836e-5c13eabc000e",
   "metadata": {},
   "source": [
    "The filter the rows to those with matching dominoes"
   ]
  },
  {
   "cell_type": "code",
   "execution_count": 6,
   "id": "596d19a2-5437-44e3-8ad4-f4bf3a491061",
   "metadata": {},
   "outputs": [
    {
     "data": {
      "text/plain": [
       "(28, 28)"
      ]
     },
     "execution_count": 6,
     "metadata": {},
     "output_type": "execute_result"
    }
   ],
   "source": [
    "boards_with_dominoes = boards[dominoes == dominoes_val]\n",
    "lights_with_dominoes = lights[dominoes == dominoes_val]\n",
    "len(boards_with_dominoes), len(lights_with_dominoes)"
   ]
  },
  {
   "cell_type": "markdown",
   "id": "ae540e73-f55a-4b7a-97f5-c1d5c548adeb",
   "metadata": {},
   "source": [
    "Then filter by lights"
   ]
  },
  {
   "cell_type": "code",
   "execution_count": 7,
   "id": "68a15172-0d16-4d64-bbc1-588fe4161c15",
   "metadata": {},
   "outputs": [
    {
     "data": {
      "text/plain": [
       "1"
      ]
     },
     "execution_count": 7,
     "metadata": {},
     "output_type": "execute_result"
    }
   ],
   "source": [
    "matching_boards = boards_with_dominoes[lights_with_dominoes == lights_val]\n",
    "len(matching_boards)"
   ]
  },
  {
   "cell_type": "markdown",
   "id": "50233001-ce3d-4474-904d-301f943763c4",
   "metadata": {},
   "source": [
    "There is a single match! Here's the (decoded) board and the solution from the original puzzle. They are the same."
   ]
  },
  {
   "cell_type": "code",
   "execution_count": 8,
   "id": "86cfd26c-030a-49e0-a90c-5c4aced037ba",
   "metadata": {},
   "outputs": [
    {
     "data": {
      "text/html": [
       "<pre style=\"white-space:pre;overflow-x:auto;line-height:normal;font-family:Menlo,'DejaVu Sans Mono',consolas,'Courier New',monospace\"> ███<span style=\"color: #e9d66b; text-decoration-color: #e9d66b\">█</span> \n",
       "<span style=\"color: #ffff00; text-decoration-color: #ffff00\">█</span>....<span style=\"color: #ffff00; text-decoration-color: #ffff00\">█</span>\n",
       "█<span style=\"background-color: #00ffff\">\\</span><span style=\"background-color: #00ff00\">\\/</span>.█\n",
       "█<span style=\"background-color: #00ffff\">/</span><span style=\"background-color: #ff00ff\">/</span><span style=\"background-color: #ffff00\">\\\\</span>█\n",
       "<span style=\"color: #e9d66b; text-decoration-color: #e9d66b\">█</span>.<span style=\"background-color: #ff00ff\">\\</span>..<span style=\"color: #e9d66b; text-decoration-color: #e9d66b\">█</span>\n",
       " ███<span style=\"color: #e9d66b; text-decoration-color: #e9d66b\">█</span> \n",
       "\n",
       "</pre>\n"
      ],
      "text/plain": [
       " ███\u001b[38;2;233;214;107m█\u001b[0m \n",
       "\u001b[38;2;255;255;0m█\u001b[0m....\u001b[38;2;255;255;0m█\u001b[0m\n",
       "█\u001b[7;96m\\\u001b[0m\u001b[7;92m\\\u001b[0m\u001b[7;92m/\u001b[0m.█\n",
       "█\u001b[7;96m/\u001b[0m\u001b[7;95m/\u001b[0m\u001b[7;93m\\\u001b[0m\u001b[7;93m\\\u001b[0m█\n",
       "\u001b[38;2;233;214;107m█\u001b[0m.\u001b[7;95m\\\u001b[0m..\u001b[38;2;233;214;107m█\u001b[0m\n",
       " ███\u001b[38;2;233;214;107m█\u001b[0m \n",
       "\n"
      ]
     },
     "metadata": {},
     "output_type": "display_data"
    },
    {
     "data": {
      "text/html": [
       "<pre style=\"white-space:pre;overflow-x:auto;line-height:normal;font-family:Menlo,'DejaVu Sans Mono',consolas,'Courier New',monospace\"> ███<span style=\"color: #e9d66b; text-decoration-color: #e9d66b\">█</span> \n",
       "<span style=\"color: #ffff00; text-decoration-color: #ffff00\">█</span>....<span style=\"color: #ffff00; text-decoration-color: #ffff00\">█</span>\n",
       "█<span style=\"background-color: #00ffff\">\\</span><span style=\"background-color: #00ff00\">\\/</span>.█\n",
       "█<span style=\"background-color: #00ffff\">/</span><span style=\"background-color: #ff00ff\">/</span><span style=\"background-color: #ffff00\">\\\\</span>█\n",
       "<span style=\"color: #e9d66b; text-decoration-color: #e9d66b\">█</span>.<span style=\"background-color: #ff00ff\">\\</span>..<span style=\"color: #e9d66b; text-decoration-color: #e9d66b\">█</span>\n",
       " ███<span style=\"color: #e9d66b; text-decoration-color: #e9d66b\">█</span> \n",
       "\n",
       "</pre>\n"
      ],
      "text/plain": [
       " ███\u001b[38;2;233;214;107m█\u001b[0m \n",
       "\u001b[38;2;255;255;0m█\u001b[0m....\u001b[38;2;255;255;0m█\u001b[0m\n",
       "█\u001b[7;96m\\\u001b[0m\u001b[7;92m\\\u001b[0m\u001b[7;92m/\u001b[0m.█\n",
       "█\u001b[7;96m/\u001b[0m\u001b[7;95m/\u001b[0m\u001b[7;93m\\\u001b[0m\u001b[7;93m\\\u001b[0m█\n",
       "\u001b[38;2;233;214;107m█\u001b[0m.\u001b[7;95m\\\u001b[0m..\u001b[38;2;233;214;107m█\u001b[0m\n",
       " ███\u001b[38;2;233;214;107m█\u001b[0m \n",
       "\n"
      ]
     },
     "metadata": {},
     "output_type": "display_data"
    }
   ],
   "source": [
    "from polarize.encode import decode_board\n",
    "\n",
    "print(decode_board(matching_boards[0]))\n",
    "\n",
    "print(puzzle.solution)"
   ]
  },
  {
   "cell_type": "markdown",
   "id": "f96a73f6-4fab-43f8-b717-8ca66b5a2f32",
   "metadata": {},
   "source": [
    "### Generating a puzzle\n",
    "\n",
    "We can pick a row at random and use the lights and dominoes to set a puzzle (which has a unique solution):"
   ]
  },
  {
   "cell_type": "code",
   "execution_count": 9,
   "id": "6014005f-56f1-43a1-a539-7f61ab29dec0",
   "metadata": {},
   "outputs": [
    {
     "data": {
      "text/html": [
       "<pre style=\"white-space:pre;overflow-x:auto;line-height:normal;font-family:Menlo,'DejaVu Sans Mono',consolas,'Courier New',monospace\"> <span style=\"color: #e9d66b; text-decoration-color: #e9d66b\">█</span>█<span style=\"color: #ffff00; text-decoration-color: #ffff00\">█</span>█ \n",
       "<span style=\"color: #e9d66b; text-decoration-color: #e9d66b\">█</span>....<span style=\"color: #e9d66b; text-decoration-color: #e9d66b\">█</span>\n",
       "█....█\n",
       "<span style=\"color: #e9d66b; text-decoration-color: #e9d66b\">█</span>....<span style=\"color: #e9d66b; text-decoration-color: #e9d66b\">█</span>\n",
       "<span style=\"color: #e9d66b; text-decoration-color: #e9d66b\">█</span>....<span style=\"color: #e9d66b; text-decoration-color: #e9d66b\">█</span>\n",
       " <span style=\"color: #e9d66b; text-decoration-color: #e9d66b\">█</span>█<span style=\"color: #ffff00; text-decoration-color: #ffff00\">█</span>█ \n",
       "<span style=\"background-color: #808080\">//</span>\n",
       "<span style=\"background-color: #ff00ff\">/</span>\n",
       "<span style=\"background-color: #ff00ff\">\\</span>\n",
       "<span style=\"background-color: #00ffff\">\\</span>\n",
       "<span style=\"background-color: #00ffff\">/</span>\n",
       "<span style=\"background-color: #00ffff\">\\</span>\n",
       "<span style=\"background-color: #00ffff\">/</span>\n",
       "\n",
       "</pre>\n"
      ],
      "text/plain": [
       " \u001b[38;2;233;214;107m█\u001b[0m█\u001b[38;2;255;255;0m█\u001b[0m█ \n",
       "\u001b[38;2;233;214;107m█\u001b[0m....\u001b[38;2;233;214;107m█\u001b[0m\n",
       "█....█\n",
       "\u001b[38;2;233;214;107m█\u001b[0m....\u001b[38;2;233;214;107m█\u001b[0m\n",
       "\u001b[38;2;233;214;107m█\u001b[0m....\u001b[38;2;233;214;107m█\u001b[0m\n",
       " \u001b[38;2;233;214;107m█\u001b[0m█\u001b[38;2;255;255;0m█\u001b[0m█ \n",
       "\u001b[7;90m//\u001b[0m\n",
       "\u001b[7;95m/\u001b[0m\n",
       "\u001b[7;95m\\\u001b[0m\n",
       "\u001b[7;96m\\\u001b[0m\n",
       "\u001b[7;96m/\u001b[0m\n",
       "\u001b[7;96m\\\u001b[0m\n",
       "\u001b[7;96m/\u001b[0m\n",
       "\n"
      ]
     },
     "metadata": {},
     "output_type": "display_data"
    }
   ],
   "source": [
    "i = 10000\n",
    "puzzle = decode_puzzle(lights[i], dominoes[i])\n",
    "\n",
    "from rich.jupyter import print\n",
    "\n",
    "print(puzzle)"
   ]
  },
  {
   "cell_type": "markdown",
   "id": "17bdaa52-2124-4bf9-9d32-f106d2307c81",
   "metadata": {},
   "source": [
    "Let's check that the solution is actually unique and matches the board in the `boards` variable."
   ]
  },
  {
   "cell_type": "code",
   "execution_count": 10,
   "id": "29085a4a-7a6d-4a14-a6c0-7d9640406792",
   "metadata": {},
   "outputs": [
    {
     "data": {
      "text/html": [
       "<pre style=\"white-space:pre;overflow-x:auto;line-height:normal;font-family:Menlo,'DejaVu Sans Mono',consolas,'Courier New',monospace\"> <span style=\"color: #e9d66b; text-decoration-color: #e9d66b\">█</span>█<span style=\"color: #ffff00; text-decoration-color: #ffff00\">█</span>█ \n",
       "<span style=\"color: #e9d66b; text-decoration-color: #e9d66b\">█</span>...<span style=\"background-color: #ff00ff\">/</span><span style=\"color: #e9d66b; text-decoration-color: #e9d66b\">█</span>\n",
       "█<span style=\"background-color: #808080\">//</span>.<span style=\"background-color: #ff00ff\">\\</span>█\n",
       "<span style=\"color: #e9d66b; text-decoration-color: #e9d66b\">█</span>.<span style=\"background-color: #00ffff\">\\</span>.<span style=\"background-color: #00ffff\">\\</span><span style=\"color: #e9d66b; text-decoration-color: #e9d66b\">█</span>\n",
       "<span style=\"color: #e9d66b; text-decoration-color: #e9d66b\">█</span>.<span style=\"background-color: #00ffff\">/</span>.<span style=\"background-color: #00ffff\">/</span><span style=\"color: #e9d66b; text-decoration-color: #e9d66b\">█</span>\n",
       " <span style=\"color: #e9d66b; text-decoration-color: #e9d66b\">█</span>█<span style=\"color: #ffff00; text-decoration-color: #ffff00\">█</span>█ \n",
       "\n",
       "</pre>\n"
      ],
      "text/plain": [
       " \u001b[38;2;233;214;107m█\u001b[0m█\u001b[38;2;255;255;0m█\u001b[0m█ \n",
       "\u001b[38;2;233;214;107m█\u001b[0m...\u001b[7;95m/\u001b[0m\u001b[38;2;233;214;107m█\u001b[0m\n",
       "█\u001b[7;90m/\u001b[0m\u001b[7;90m/\u001b[0m.\u001b[7;95m\\\u001b[0m█\n",
       "\u001b[38;2;233;214;107m█\u001b[0m.\u001b[7;96m\\\u001b[0m.\u001b[7;96m\\\u001b[0m\u001b[38;2;233;214;107m█\u001b[0m\n",
       "\u001b[38;2;233;214;107m█\u001b[0m.\u001b[7;96m/\u001b[0m.\u001b[7;96m/\u001b[0m\u001b[38;2;233;214;107m█\u001b[0m\n",
       " \u001b[38;2;233;214;107m█\u001b[0m█\u001b[38;2;255;255;0m█\u001b[0m█ \n",
       "\n"
      ]
     },
     "metadata": {},
     "output_type": "display_data"
    }
   ],
   "source": [
    "from polarize.solve import solve\n",
    "\n",
    "solutions = solve(puzzle)\n",
    "assert len(solutions) == 1\n",
    "print(solutions[0])"
   ]
  },
  {
   "cell_type": "code",
   "execution_count": 11,
   "id": "5a613256-ee54-4358-be89-0792e62fbb60",
   "metadata": {},
   "outputs": [
    {
     "data": {
      "text/html": [
       "<pre style=\"white-space:pre;overflow-x:auto;line-height:normal;font-family:Menlo,'DejaVu Sans Mono',consolas,'Courier New',monospace\"> <span style=\"color: #e9d66b; text-decoration-color: #e9d66b\">█</span>█<span style=\"color: #ffff00; text-decoration-color: #ffff00\">█</span>█ \n",
       "<span style=\"color: #e9d66b; text-decoration-color: #e9d66b\">█</span>...<span style=\"background-color: #ff00ff\">/</span><span style=\"color: #e9d66b; text-decoration-color: #e9d66b\">█</span>\n",
       "█<span style=\"background-color: #808080\">//</span>.<span style=\"background-color: #ff00ff\">\\</span>█\n",
       "<span style=\"color: #e9d66b; text-decoration-color: #e9d66b\">█</span>.<span style=\"background-color: #00ffff\">\\</span>.<span style=\"background-color: #00ffff\">\\</span><span style=\"color: #e9d66b; text-decoration-color: #e9d66b\">█</span>\n",
       "<span style=\"color: #e9d66b; text-decoration-color: #e9d66b\">█</span>.<span style=\"background-color: #00ffff\">/</span>.<span style=\"background-color: #00ffff\">/</span><span style=\"color: #e9d66b; text-decoration-color: #e9d66b\">█</span>\n",
       " <span style=\"color: #e9d66b; text-decoration-color: #e9d66b\">█</span>█<span style=\"color: #ffff00; text-decoration-color: #ffff00\">█</span>█ \n",
       "\n",
       "</pre>\n"
      ],
      "text/plain": [
       " \u001b[38;2;233;214;107m█\u001b[0m█\u001b[38;2;255;255;0m█\u001b[0m█ \n",
       "\u001b[38;2;233;214;107m█\u001b[0m...\u001b[7;95m/\u001b[0m\u001b[38;2;233;214;107m█\u001b[0m\n",
       "█\u001b[7;90m/\u001b[0m\u001b[7;90m/\u001b[0m.\u001b[7;95m\\\u001b[0m█\n",
       "\u001b[38;2;233;214;107m█\u001b[0m.\u001b[7;96m\\\u001b[0m.\u001b[7;96m\\\u001b[0m\u001b[38;2;233;214;107m█\u001b[0m\n",
       "\u001b[38;2;233;214;107m█\u001b[0m.\u001b[7;96m/\u001b[0m.\u001b[7;96m/\u001b[0m\u001b[38;2;233;214;107m█\u001b[0m\n",
       " \u001b[38;2;233;214;107m█\u001b[0m█\u001b[38;2;255;255;0m█\u001b[0m█ \n",
       "\n"
      ]
     },
     "metadata": {},
     "output_type": "display_data"
    }
   ],
   "source": [
    "print(decode_board(boards[i]))"
   ]
  },
  {
   "cell_type": "code",
   "execution_count": null,
   "id": "ce347b18-1dd3-4e8a-a5f1-64360ed95e86",
   "metadata": {},
   "outputs": [],
   "source": []
  }
 ],
 "metadata": {
  "kernelspec": {
   "display_name": "Python 3 (ipykernel)",
   "language": "python",
   "name": "python3"
  },
  "language_info": {
   "codemirror_mode": {
    "name": "ipython",
    "version": 3
   },
   "file_extension": ".py",
   "mimetype": "text/x-python",
   "name": "python",
   "nbconvert_exporter": "python",
   "pygments_lexer": "ipython3",
   "version": "3.12.8"
  }
 },
 "nbformat": 4,
 "nbformat_minor": 5
}
